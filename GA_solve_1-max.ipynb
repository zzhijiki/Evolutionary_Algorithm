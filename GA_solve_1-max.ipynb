{
 "cells": [
  {
   "cell_type": "markdown",
   "metadata": {
    "ExecuteTime": {
     "end_time": "2019-12-03T12:08:02.600804Z",
     "start_time": "2019-12-03T12:08:02.593804Z"
    }
   },
   "source": [
    "## 问题提出"
   ]
  },
  {
   "cell_type": "markdown",
   "metadata": {},
   "source": [
    "- 1max 问题：找出含有1的位数最多的n位串\n",
    "- 适应度：含有1的个数\n",
    "- target: 连续n个1\n",
    "- 算法要求：遗传算法\n",
    "- n=30\n",
    "- 迭代的最大代数：100\n",
    "- 种群规模=20\n",
    "- 变异率=1%"
   ]
  },
  {
   "cell_type": "markdown",
   "metadata": {
    "ExecuteTime": {
     "end_time": "2019-12-03T12:07:43.941737Z",
     "start_time": "2019-12-03T12:07:43.928736Z"
    }
   },
   "source": [
    "## 构建代码"
   ]
  },
  {
   "cell_type": "markdown",
   "metadata": {},
   "source": [
    "### 第一步：用字符串初始化20个30位串，每个n位串上的0，1都是随机获得"
   ]
  },
  {
   "cell_type": "code",
   "execution_count": 1,
   "metadata": {
    "ExecuteTime": {
     "end_time": "2019-12-03T14:58:41.983463Z",
     "start_time": "2019-12-03T14:58:41.292424Z"
    }
   },
   "outputs": [],
   "source": [
    "import numpy as  np\n",
    "import matplotlib\n",
    "import matplotlib.pyplot as plt\n",
    "import matplotlib.gridspec as gridspec\n",
    "%matplotlib inline"
   ]
  },
  {
   "cell_type": "code",
   "execution_count": 2,
   "metadata": {
    "ExecuteTime": {
     "end_time": "2019-12-03T14:58:41.995464Z",
     "start_time": "2019-12-03T14:58:41.987463Z"
    }
   },
   "outputs": [],
   "source": [
    "def initial_random_parent(num_of_bit):\n",
    "    \"\"\"\n",
    "    num_of_bit: 位串长\n",
    "    \"\"\"\n",
    "    # 均匀分布\n",
    "    a=np.random.uniform(size=(num_of_bit,))\n",
    "    a=a>0.5\n",
    "    a=(a+0).astype(str)\n",
    "    ans=\"\".join(a)\n",
    "    return ans"
   ]
  },
  {
   "cell_type": "code",
   "execution_count": 3,
   "metadata": {
    "ExecuteTime": {
     "end_time": "2019-12-03T14:58:42.216477Z",
     "start_time": "2019-12-03T14:58:42.000464Z"
    }
   },
   "outputs": [
    {
     "name": "stdout",
     "output_type": "stream",
     "text": [
      "110000010110000001110001110010\n",
      "100101100001011100010100100010\n",
      "000010110000000001001010001000\n"
     ]
    }
   ],
   "source": [
    "## 测试\n",
    "for _ in range(3):\n",
    "    print(initial_random_parent(30))"
   ]
  },
  {
   "cell_type": "markdown",
   "metadata": {},
   "source": [
    "- 构造数据集：20个30位串"
   ]
  },
  {
   "cell_type": "code",
   "execution_count": 4,
   "metadata": {
    "ExecuteTime": {
     "end_time": "2019-12-03T14:58:42.335483Z",
     "start_time": "2019-12-03T14:58:42.221477Z"
    }
   },
   "outputs": [],
   "source": [
    "def traindata(num_of_group):\n",
    "    \"\"\"\n",
    "    num of group: 种群规模\n",
    "    \"\"\"\n",
    "    ans=[]\n",
    "    for _ in range(num_of_group):\n",
    "        ans.append(initial_random_parent(30))\n",
    "    return ans"
   ]
  },
  {
   "cell_type": "code",
   "execution_count": 5,
   "metadata": {
    "ExecuteTime": {
     "end_time": "2019-12-03T14:58:42.447490Z",
     "start_time": "2019-12-03T14:58:42.338484Z"
    }
   },
   "outputs": [],
   "source": [
    "## 获得数据集\n",
    "X_train=traindata(20)"
   ]
  },
  {
   "cell_type": "code",
   "execution_count": 6,
   "metadata": {
    "ExecuteTime": {
     "end_time": "2019-12-03T14:58:42.578497Z",
     "start_time": "2019-12-03T14:58:42.455490Z"
    }
   },
   "outputs": [
    {
     "name": "stdout",
     "output_type": "stream",
     "text": [
      "20 30\n",
      "100100110101010111111111111110\n"
     ]
    }
   ],
   "source": [
    "## 检查数据集\n",
    "print(len(X_train),len(X_train[0]))\n",
    "print(X_train[2])"
   ]
  },
  {
   "cell_type": "markdown",
   "metadata": {},
   "source": [
    "### 第二步：定义适应度函数"
   ]
  },
  {
   "cell_type": "code",
   "execution_count": 7,
   "metadata": {
    "ExecuteTime": {
     "end_time": "2019-12-03T14:58:42.751507Z",
     "start_time": "2019-12-03T14:58:42.585498Z"
    }
   },
   "outputs": [],
   "source": [
    "def fitness(bit):\n",
    "    \"\"\"\n",
    "    Input：\n",
    "        bit:输入的位串\n",
    "    output：\n",
    "        这个bit的适应度\n",
    "    \"\"\"\n",
    "    ans=bit.count(\"1\")\n",
    "    return ans"
   ]
  },
  {
   "cell_type": "code",
   "execution_count": 8,
   "metadata": {
    "ExecuteTime": {
     "end_time": "2019-12-03T14:58:42.864514Z",
     "start_time": "2019-12-03T14:58:42.757507Z"
    }
   },
   "outputs": [
    {
     "data": {
      "text/plain": [
       "3"
      ]
     },
     "execution_count": 8,
     "metadata": {},
     "output_type": "execute_result"
    }
   ],
   "source": [
    "##测试\n",
    "fitness(\"100000101\")"
   ]
  },
  {
   "cell_type": "markdown",
   "metadata": {},
   "source": [
    "### 第三步：定义随机取xi的函数（轮盘赌）\n",
    "- 需要根据xi的适应度来定义他随机的权重\n",
    "- 用到的函数`np.random.choice(list,weight)`"
   ]
  },
  {
   "cell_type": "code",
   "execution_count": 9,
   "metadata": {
    "ExecuteTime": {
     "end_time": "2019-12-03T14:58:42.985521Z",
     "start_time": "2019-12-03T14:58:42.869514Z"
    }
   },
   "outputs": [],
   "source": [
    "def choose_parent(fitnesslist,n=20):\n",
    "    \"\"\"\n",
    "    Input:\n",
    "        fitnesslist: 20个位串的适应度list\n",
    "        n：位串的个数，默认为20\n",
    "    Output：\n",
    "        两个需要交叉的父代的index\n",
    "    \"\"\"\n",
    "    # 归一化fitnesslist\n",
    "    fitnesslist /= np.sum(fitnesslist)\n",
    "    assert abs(np.sum(fitnesslist)-1)<0.0001\n",
    "    index_a,index_b=np.random.choice(n,size=2,p=fitnesslist)## 采样是会重复的\n",
    "    i=0\n",
    "    while index_a==index_b or i<3:\n",
    "        i=i+1\n",
    "        index_b=np.random.choice(n,size=1,p=fitnesslist)\n",
    "    return index_a,int(index_b)"
   ]
  },
  {
   "cell_type": "code",
   "execution_count": 10,
   "metadata": {
    "ExecuteTime": {
     "end_time": "2019-12-03T14:58:43.140529Z",
     "start_time": "2019-12-03T14:58:42.994521Z"
    }
   },
   "outputs": [
    {
     "name": "stdout",
     "output_type": "stream",
     "text": [
      "(8, 9)\n",
      "(6, 4)\n",
      "(8, 5)\n",
      "(7, 5)\n"
     ]
    }
   ],
   "source": [
    "## 测试choose_parent\n",
    "a=[0,1,2,3,4,5,6,7,8,9]\n",
    "for _ in range(4):\n",
    "    print(choose_parent(a,n=10))"
   ]
  },
  {
   "cell_type": "markdown",
   "metadata": {},
   "source": [
    "### 第四步：定义交叉的函数"
   ]
  },
  {
   "cell_type": "code",
   "execution_count": 11,
   "metadata": {
    "ExecuteTime": {
     "end_time": "2019-12-03T14:58:43.279537Z",
     "start_time": "2019-12-03T14:58:43.146530Z"
    }
   },
   "outputs": [],
   "source": [
    "def cross_gene(X_train,index_a,index_b):\n",
    "    \"\"\"\n",
    "    Input: \n",
    "        X_train 数据集\n",
    "        index_a,index_b:两个需要交叉的数据集\n",
    "    Output：\n",
    "        c1,c2:两个子代\n",
    "    \"\"\"\n",
    "    X1=X_train[index_a]\n",
    "    X2=X_train[index_b]\n",
    "    ### 随机选择交叉点\n",
    "    cross_index=np.random.randint(low=0,high=30,size=1)[0]\n",
    "#     print(\"crossid:\",cross_index)\n",
    "    ans1=[]\n",
    "    ans2=[]\n",
    "    for i in range(30):\n",
    "        if i<cross_index:\n",
    "            ans1.append(X1[i])\n",
    "            ans2.append(X2[i])\n",
    "        else:\n",
    "            ans1.append(X2[i])\n",
    "            ans2.append(X1[i])\n",
    "    ans1=\"\".join(ans1)\n",
    "    ans2=\"\".join(ans2)\n",
    "    return ans1,ans2"
   ]
  },
  {
   "cell_type": "code",
   "execution_count": 12,
   "metadata": {
    "ExecuteTime": {
     "end_time": "2019-12-03T14:58:43.431546Z",
     "start_time": "2019-12-03T14:58:43.285538Z"
    }
   },
   "outputs": [
    {
     "name": "stdout",
     "output_type": "stream",
     "text": [
      "001010110011101000001110000010\n",
      "100111000010011000111011110101\n"
     ]
    },
    {
     "data": {
      "text/plain": [
       "('001010110011101000111011110101', '100111000010011000001110000010')"
      ]
     },
     "execution_count": 12,
     "metadata": {},
     "output_type": "execute_result"
    }
   ],
   "source": [
    "## 测试cross_gene\n",
    "print(X_train[0])\n",
    "print(X_train[1])\n",
    "cross_gene(X_train,0,1)"
   ]
  },
  {
   "cell_type": "code",
   "execution_count": 13,
   "metadata": {
    "ExecuteTime": {
     "end_time": "2019-12-03T14:58:43.535552Z",
     "start_time": "2019-12-03T14:58:43.437546Z"
    }
   },
   "outputs": [],
   "source": [
    "def mutate(gene,p=0.02):\n",
    "    ans=[]\n",
    "    for value in gene:\n",
    "        a=np.random.random_sample()\n",
    "        if a<p:\n",
    "            ans.append(str(1-int(value)))\n",
    "        else:\n",
    "            ans.append(value)\n",
    "    return \"\".join(ans)"
   ]
  },
  {
   "cell_type": "code",
   "execution_count": 14,
   "metadata": {
    "ExecuteTime": {
     "end_time": "2019-12-03T14:58:43.673560Z",
     "start_time": "2019-12-03T14:58:43.543552Z"
    }
   },
   "outputs": [
    {
     "name": "stdout",
     "output_type": "stream",
     "text": [
      "3\n",
      "4\n",
      "5\n"
     ]
    }
   ],
   "source": [
    "###  测试mutate函数\n",
    "for i in range(6):\n",
    "    k=mutate(X_train[0],p=0.02)\n",
    "    if k!= X_train[0]:\n",
    "        print(i)"
   ]
  },
  {
   "cell_type": "markdown",
   "metadata": {},
   "source": [
    "### 最后一步：循环训练"
   ]
  },
  {
   "cell_type": "code",
   "execution_count": 15,
   "metadata": {
    "ExecuteTime": {
     "end_time": "2019-12-03T14:58:44.107585Z",
     "start_time": "2019-12-03T14:58:43.677560Z"
    }
   },
   "outputs": [
    {
     "name": "stdout",
     "output_type": "stream",
     "text": [
      "iternum:20,fitmax=20\n",
      "iternum:40,fitmax=22\n",
      "iternum:60,fitmax=23\n",
      "iternum:80,fitmax=24\n",
      "iternum:100,fitmax=24\n",
      "100111111011111111111110101101\n"
     ]
    }
   ],
   "source": [
    "itermax=100\n",
    "iternum=0\n",
    "\n",
    "X_train=traindata(20) ## 获得20个第一代\n",
    "fitnesslist=list(map(fitness,X_train))\n",
    "fitmax=max(fitnesslist)\n",
    "current_generation=X_train\n",
    "while iternum<100 :\n",
    "    if fitmax==30:\n",
    "        break\n",
    "    iternum+=1\n",
    "#     print(fitnesslist)\n",
    "    next_generation=[]\n",
    "    assert len(current_generation)==20\n",
    "    while len(next_generation)<len(current_generation):\n",
    "#         print(fitnesslist)\n",
    "        index_a,index_b=choose_parent(fitnesslist,n=20)\n",
    "    \n",
    "#         print(index_a,index_b)\n",
    "        next_gene1,next_gene2=cross_gene(current_generation,index_a,index_b)\n",
    "        next_generation.extend([next_gene1,next_gene2])\n",
    "        \n",
    "    next_generation=list(map(mutate,next_generation))\n",
    "    current_generation=next_generation\n",
    "    fitnesslist=list(map(fitness,next_generation))\n",
    "    fitmax=max(fitnesslist)\n",
    "    if iternum % 20==0:\n",
    "        print(\"iternum:{},fitmax={}\".format(iternum,fitmax))\n",
    "    \n",
    "max_index=fitnesslist.index(fitmax)\n",
    "print(current_generation[max_index])\n"
   ]
  },
  {
   "cell_type": "markdown",
   "metadata": {
    "ExecuteTime": {
     "end_time": "2019-12-03T12:40:54.845610Z",
     "start_time": "2019-12-03T12:40:54.835609Z"
    }
   },
   "source": [
    "### 包装成类"
   ]
  },
  {
   "cell_type": "code",
   "execution_count": 16,
   "metadata": {
    "ExecuteTime": {
     "end_time": "2019-12-03T14:58:44.157588Z",
     "start_time": "2019-12-03T14:58:44.110585Z"
    }
   },
   "outputs": [],
   "source": [
    "class GA:\n",
    "    def __init__(self,num_of_bit,num_of_group,mutate_value,fitfun=1):\n",
    "        self.num_of_bit=num_of_bit\n",
    "        self.num_of_group=num_of_group\n",
    "        self.mutate_value=mutate_value\n",
    "        self.fitfun=fitfun\n",
    "        \n",
    "    def initial_random_parent(self,num_of_bit):\n",
    "        \"\"\"\n",
    "        num_of_bit: 位串长\n",
    "        \"\"\"\n",
    "        # 均匀分布\n",
    "        a=np.random.uniform(size=(num_of_bit,))\n",
    "        a=a>0.5\n",
    "        a=(a+0).astype(str)\n",
    "        ans=\"\".join(a)\n",
    "        return ans\n",
    "\n",
    "    def traindata(self,num_of_group):\n",
    "        \"\"\"\n",
    "        num of group: 种群规模\n",
    "        \"\"\"\n",
    "        ans=[]\n",
    "        for _ in range(num_of_group):\n",
    "            ans.append(initial_random_parent(30))\n",
    "        return ans\n",
    "    \n",
    "    def fitness(self,bit):\n",
    "        \"\"\"\n",
    "        Input：\n",
    "            bit:输入的位串\n",
    "        output：\n",
    "            这个bit的适应度\n",
    "        \"\"\"\n",
    "        ans=bit.count(\"1\")\n",
    "        return ans\n",
    "    \n",
    "    def fitness2(self,bit):\n",
    "        \"\"\"\n",
    "        Input：\n",
    "            bit:输入的位串\n",
    "        output：\n",
    "            这个bit的适应度\n",
    "        \"\"\"\n",
    "        ans=bit.count(\"1\")+50\n",
    "        return ans\n",
    "    \n",
    "    def choose_parent(self,fitnesslist,n=20):\n",
    "        \"\"\"\n",
    "        Input:\n",
    "            fitnesslist: 20个位串的适应度list\n",
    "            n：位串的个数，默认为20\n",
    "        Output：\n",
    "            两个需要交叉的父代的index\n",
    "        \"\"\"\n",
    "        # 归一化fitnesslist\n",
    "        fitnesslist /= np.sum(fitnesslist)\n",
    "        assert abs(np.sum(fitnesslist)-1)<0.0001\n",
    "        index_a,index_b=np.random.choice(n,size=2,p=fitnesslist)## 采样是会重复的\n",
    "        i=0\n",
    "        if self.fitfun!=3:\n",
    "            while index_a==index_b or i<2 :\n",
    "                i=i+1\n",
    "                index_b=np.random.choice(n,size=1,p=fitnesslist)\n",
    "        return index_a,int(index_b)\n",
    "\n",
    "    def cross_gene(self,X_train,index_a,index_b):\n",
    "        \"\"\"\n",
    "        Input: \n",
    "            X_train 数据集\n",
    "            index_a,index_b:两个需要交叉的数据集\n",
    "        Output：\n",
    "            c1,c2:两个子代\n",
    "        \"\"\"\n",
    "        X1=X_train[index_a]\n",
    "        X2=X_train[index_b]\n",
    "        ### 随机选择交叉点\n",
    "        cross_index=np.random.randint(low=0,high=30,size=1)[0]\n",
    "    #     print(\"crossid:\",cross_index)\n",
    "        ans1=[]\n",
    "        ans2=[]\n",
    "        for i in range(30):\n",
    "            if i<cross_index:\n",
    "                ans1.append(X1[i])\n",
    "                ans2.append(X2[i])\n",
    "            else:\n",
    "                ans1.append(X2[i])\n",
    "                ans2.append(X1[i])\n",
    "        ans1=\"\".join(ans1)\n",
    "        ans2=\"\".join(ans2)\n",
    "        return ans1,ans2\n",
    "    \n",
    "    \n",
    "    def mutate(self,gene):\n",
    "        p=self.mutate_value\n",
    "        ans=[]\n",
    "        for value in gene:\n",
    "            a=np.random.random_sample()\n",
    "            if a<p:\n",
    "                ans.append(str(1-int(value)))\n",
    "            else:\n",
    "                ans.append(value)\n",
    "        return \"\".join(ans)\n",
    "    \n",
    "    def predict(self,itermax,Verbose=True):\n",
    "        if self.fitfun==1:\n",
    "            pass\n",
    "        elif self.fitfun==2:\n",
    "            self.fitness=self.fitness2\n",
    "            \n",
    "        iternum=0\n",
    "\n",
    "        X_train=self.traindata(self.num_of_group) ## 获得20个第一代        \n",
    "        fitnesslist=list(map(self.fitness,X_train))\n",
    "        if self.fitfun==3:\n",
    "            average=np.sum(fitnesslist)/len(fitnesslist)\n",
    "            mask=list(map(lambda x: x>=average,fitnesslist))\n",
    "            fitnesslist =np.multiply(fitnesslist,mask)\n",
    "            fitnesslist =fitnesslist.tolist()\n",
    "        fitmax=max(fitnesslist)\n",
    "        current_generation=X_train\n",
    "        \n",
    "        v_best=[fitmax]\n",
    "        v_aver=[np.sum(fitnesslist)/len(fitnesslist)]\n",
    "        while iternum<itermax :\n",
    "#             if fitmax==self.num_of_bit:\n",
    "#                 break\n",
    "                \n",
    "            iternum+=1\n",
    "            \n",
    "            next_generation=[]\n",
    "            assert len(current_generation)==self.num_of_group\n",
    "            \n",
    "            while len(next_generation)<len(current_generation):\n",
    "#                 print(fitnesslist)\n",
    "#                 print(type(fitnesslist))\n",
    "                index_a,index_b=self.choose_parent(fitnesslist,n=self.num_of_group)\n",
    "\n",
    "        #         print(index_a,index_b)\n",
    "                next_gene1,next_gene2=self.cross_gene(current_generation,index_a,index_b)\n",
    "                next_generation.extend([next_gene1,next_gene2])\n",
    "#             print(next_generation)\n",
    "            next_generation=list(map(self.mutate,next_generation))\n",
    "            current_generation=next_generation\n",
    "            fitnesslist=list(map(self.fitness,next_generation))\n",
    "            if self.fitfun==3:\n",
    "                average=np.sum(fitnesslist)/len(fitnesslist)\n",
    "                mask=list(map(lambda x: x>=average,fitnesslist))\n",
    "                fitnesslist =np.multiply(fitnesslist,mask)\n",
    "                fitnesslist = fitnesslist.tolist()\n",
    "            fitmax=max(fitnesslist)\n",
    "            \n",
    "            v_best.append(fitmax)\n",
    "            v_aver.append(np.sum(fitnesslist)/len(fitnesslist))\n",
    "        if Verbose:\n",
    "            # 定义figure\n",
    "            plt.figure()\n",
    "            # 分隔figure\n",
    "            gs = gridspec.GridSpec(1, 2)\n",
    "            ax1 = plt.subplot(gs[0,0])\n",
    "            ax2 = plt.subplot(gs[0,1])\n",
    "\n",
    "            # 绘制图像\n",
    "            b_x=np.arange(itermax+1)\n",
    "            ax1.plot(b_x,v_best)\n",
    "            ax1.set_title(\"best_num for 1\")\n",
    "            ax2.plot(b_x,v_aver)\n",
    "            ax2.set_title(\"average_num for 1\")\n",
    "            plt.show()\n",
    "        self.max1=max(v_best)\n",
    "        self.v_best=v_best       \n",
    "        max_index=fitnesslist.index(fitmax)\n",
    "        return "
   ]
  },
  {
   "cell_type": "markdown",
   "metadata": {},
   "source": [
    "- 1.画出最好的个体，以及种群平均适应度随着代数变化的图形"
   ]
  },
  {
   "cell_type": "code",
   "execution_count": 17,
   "metadata": {
    "ExecuteTime": {
     "end_time": "2019-12-03T14:58:44.956633Z",
     "start_time": "2019-12-03T14:58:44.160588Z"
    }
   },
   "outputs": [
    {
     "data": {
      "image/png": "[encoded data removed]",
      "text/plain": [
       "<Figure size 432x288 with 2 Axes>"
      ]
     },
     "metadata": {
      "needs_background": "light"
     },
     "output_type": "display_data"
    }
   ],
   "source": [
    "model=GA(num_of_bit=30,num_of_group=20,mutate_value=0.01)\n",
    "model.predict(itermax=100)"
   ]
  },
  {
   "cell_type": "markdown",
   "metadata": {},
   "source": [
    "- 2.做50次仿真，你会得到50个best图，画出这50个图的平均。 记100代最好的50个适应值的平均为$f_{aver}(x^*)$,则$f_{aver}(x^*)$是多少"
   ]
  },
  {
   "cell_type": "code",
   "execution_count": 18,
   "metadata": {
    "ExecuteTime": {
     "end_time": "2019-12-03T14:58:59.172446Z",
     "start_time": "2019-12-03T14:58:44.959633Z"
    }
   },
   "outputs": [
    {
     "data": {
      "image/png": "[encoded data removed]",
      "text/plain": [
       "<Figure size 432x288 with 1 Axes>"
      ]
     },
     "metadata": {
      "needs_background": "light"
     },
     "output_type": "display_data"
    },
    {
     "name": "stdout",
     "output_type": "stream",
     "text": [
      "50次最好的适应值为26.7\n"
     ]
    }
   ],
   "source": [
    "ans_best=np.zeros(101)\n",
    "f_star=0\n",
    "\n",
    "for i in range(50):\n",
    "    model=GA(num_of_bit=30,num_of_group=20,mutate_value=0.01)\n",
    "    model.predict(itermax=100,Verbose=False)\n",
    "    ans_best +=np.array(model.v_best)\n",
    "    f_star += model.max1\n",
    "ans_best=(ans_best/50).tolist()\n",
    "x=np.arange(101)\n",
    "plt.figure()\n",
    "plt.plot(x,ans_best)\n",
    "plt.title(\"Average best graph of 50 simulation\")\n",
    "plt.show()\n",
    "\n",
    "print(\"50次最好的适应值为{}\".format(f_star/50))"
   ]
  },
  {
   "cell_type": "markdown",
   "metadata": {},
   "source": [
    "- 3. 种群规模编程40，重复2，与2相比，$f_{aver}(x^*)$有什么区别"
   ]
  },
  {
   "cell_type": "code",
   "execution_count": 19,
   "metadata": {
    "ExecuteTime": {
     "end_time": "2019-12-03T14:59:25.630960Z",
     "start_time": "2019-12-03T14:58:59.175447Z"
    }
   },
   "outputs": [
    {
     "data": {
      "image/png": "[encoded data removed]",
      "text/plain": [
       "<Figure size 432x288 with 1 Axes>"
      ]
     },
     "metadata": {
      "needs_background": "light"
     },
     "output_type": "display_data"
    },
    {
     "name": "stdout",
     "output_type": "stream",
     "text": [
      "50次最好的适应值为28.44\n"
     ]
    }
   ],
   "source": [
    "ans_best=np.zeros(101)\n",
    "f_star=0\n",
    "\n",
    "for i in range(50):\n",
    "    model=GA(num_of_bit=30,num_of_group=40,mutate_value=0.01)\n",
    "    model.predict(itermax=100,Verbose=False)\n",
    "    ans_best +=np.array(model.v_best)\n",
    "    f_star += model.max1\n",
    "ans_best=(ans_best/50).tolist()\n",
    "x=np.arange(101)\n",
    "plt.figure()\n",
    "plt.plot(x,ans_best)\n",
    "plt.title(\"Average best graph of 50 simulation\")\n",
    "plt.show()\n",
    "\n",
    "print(\"50次最好的适应值为{}\".format(f_star/50))"
   ]
  },
  {
   "cell_type": "markdown",
   "metadata": {},
   "source": [
    "- 4 规模为20，变异率为5%，重复2，有什么区别"
   ]
  },
  {
   "cell_type": "code",
   "execution_count": 20,
   "metadata": {
    "ExecuteTime": {
     "end_time": "2019-12-03T14:59:39.215737Z",
     "start_time": "2019-12-03T14:59:25.633960Z"
    }
   },
   "outputs": [
    {
     "data": {
      "image/png": "[encoded data removed]",
      "text/plain": [
       "<Figure size 432x288 with 1 Axes>"
      ]
     },
     "metadata": {
      "needs_background": "light"
     },
     "output_type": "display_data"
    },
    {
     "name": "stdout",
     "output_type": "stream",
     "text": [
      "50次最好的适应值为25.86\n"
     ]
    }
   ],
   "source": [
    "ans_best=np.zeros(101)\n",
    "f_star=0\n",
    "for i in range(50):\n",
    "    model=GA(num_of_bit=30,num_of_group=20,mutate_value=0.05)\n",
    "    model.predict(itermax=100,Verbose=False)\n",
    "    ans_best +=np.array(model.v_best)\n",
    "    f_star += model.max1\n",
    "ans_best=(ans_best/50).tolist()\n",
    "x=np.arange(101)\n",
    "plt.figure()\n",
    "plt.plot(x,ans_best)\n",
    "plt.title(\"Average best graph of 50 simulation\")\n",
    "plt.show()\n",
    "\n",
    "print(\"50次最好的适应值为{}\".format(f_star/50))"
   ]
  },
  {
   "cell_type": "markdown",
   "metadata": {
    "ExecuteTime": {
     "end_time": "2019-12-03T14:07:57.922353Z",
     "start_time": "2019-12-03T14:07:57.905352Z"
    }
   },
   "source": [
    "- 5 变异率为0%，重复2，有什么区别"
   ]
  },
  {
   "cell_type": "code",
   "execution_count": 21,
   "metadata": {
    "ExecuteTime": {
     "end_time": "2019-12-03T14:59:51.724452Z",
     "start_time": "2019-12-03T14:59:39.217737Z"
    }
   },
   "outputs": [
    {
     "data": {
      "image/png": "[encoded data removed]",
      "text/plain": [
       "<Figure size 432x288 with 1 Axes>"
      ]
     },
     "metadata": {
      "needs_background": "light"
     },
     "output_type": "display_data"
    },
    {
     "name": "stdout",
     "output_type": "stream",
     "text": [
      "50次最好的适应值为23.16\n"
     ]
    }
   ],
   "source": [
    "ans_best=np.zeros(101)\n",
    "f_star=0\n",
    "for i in range(50):\n",
    "    model=GA(num_of_bit=30,num_of_group=20,mutate_value=0)\n",
    "    model.predict(itermax=100,Verbose=False)\n",
    "    ans_best +=np.array(model.v_best)\n",
    "    f_star += model.max1\n",
    "ans_best=(ans_best/50).tolist()\n",
    "x=np.arange(101)\n",
    "plt.figure()\n",
    "plt.plot(x,ans_best)\n",
    "plt.title(\"Average best graph of 50 simulation\")\n",
    "plt.show()\n",
    "\n",
    "print(\"50次最好的适应值为{}\".format(f_star/50))"
   ]
  },
  {
   "cell_type": "markdown",
   "metadata": {
    "ExecuteTime": {
     "end_time": "2019-12-03T14:09:26.200402Z",
     "start_time": "2019-12-03T14:09:26.193402Z"
    }
   },
   "source": [
    "- 6 将适应度改为 等于1的数+50而不是等于1的数，重复2"
   ]
  },
  {
   "cell_type": "code",
   "execution_count": 22,
   "metadata": {
    "ExecuteTime": {
     "end_time": "2019-12-03T15:00:03.375119Z",
     "start_time": "2019-12-03T14:59:51.727452Z"
    }
   },
   "outputs": [
    {
     "data": {
      "image/png": "[encoded data removed]",
      "text/plain": [
       "<Figure size 432x288 with 1 Axes>"
      ]
     },
     "metadata": {
      "needs_background": "light"
     },
     "output_type": "display_data"
    },
    {
     "name": "stdout",
     "output_type": "stream",
     "text": [
      "50次最好的适应值为73.64\n"
     ]
    }
   ],
   "source": [
    "ans_best=np.zeros(101)\n",
    "f_star=0\n",
    "for i in range(50):\n",
    "    model=GA(num_of_bit=30,num_of_group=20,mutate_value=0.01,fitfun=2)\n",
    "    model.predict(itermax=100,Verbose=False)\n",
    "    ans_best +=np.array(model.v_best)\n",
    "    f_star += model.max1\n",
    "ans_best=(ans_best/50).tolist()\n",
    "x=np.arange(101)\n",
    "plt.figure()\n",
    "plt.plot(x,ans_best)\n",
    "plt.title(\"Average best graph of 50 simulation\")\n",
    "plt.show()\n",
    "\n",
    "print(\"50次最好的适应值为{}\".format(f_star/50))"
   ]
  },
  {
   "cell_type": "markdown",
   "metadata": {},
   "source": [
    "- 7. 适应度函数改为 低于平均的为0，与2比有什么区别"
   ]
  },
  {
   "cell_type": "code",
   "execution_count": 23,
   "metadata": {
    "ExecuteTime": {
     "end_time": "2019-12-03T15:00:12.505641Z",
     "start_time": "2019-12-03T15:00:03.378119Z"
    },
    "scrolled": false
   },
   "outputs": [
    {
     "data": {
      "image/png": "[encoded data removed]",
      "text/plain": [
       "<Figure size 432x288 with 1 Axes>"
      ]
     },
     "metadata": {
      "needs_background": "light"
     },
     "output_type": "display_data"
    },
    {
     "name": "stdout",
     "output_type": "stream",
     "text": [
      "50次最好的适应值为30.0\n"
     ]
    }
   ],
   "source": [
    "ans_best=np.zeros(101)\n",
    "f_star=0\n",
    "for i in range(50):\n",
    "    model=GA(num_of_bit=30,num_of_group=20,mutate_value=0.01,fitfun=3)\n",
    "    model.predict(itermax=100,Verbose=False)\n",
    "    ans_best +=np.array(model.v_best)\n",
    "    f_star += model.max1\n",
    "ans_best=(ans_best/50).tolist()\n",
    "x=np.arange(101)\n",
    "plt.figure()\n",
    "plt.plot(x,ans_best)\n",
    "plt.title(\"Average best graph of 50 simulation\")\n",
    "plt.show()\n",
    "\n",
    "print(\"50次最好的适应值为{}\".format(f_star/50))"
   ]
  },
  {
   "cell_type": "code",
   "execution_count": null,
   "metadata": {},
   "outputs": [],
   "source": []
  },
  {
   "cell_type": "code",
   "execution_count": null,
   "metadata": {},
   "outputs": [],
   "source": []
  }
 ],
 "metadata": {
  "kernelspec": {
   "display_name": "Python 3",
   "language": "python",
   "name": "python3"
  },
  "language_info": {
   "codemirror_mode": {
    "name": "ipython",
    "version": 3
   },
   "file_extension": ".py",
   "mimetype": "text/x-python",
   "name": "python",
   "nbconvert_exporter": "python",
   "pygments_lexer": "ipython3",
   "version": "3.7.3"
  },
  "toc": {
   "base_numbering": 1,
   "nav_menu": {
    "height": "218px",
    "width": "328px"
   },
   "number_sections": true,
   "sideBar": true,
   "skip_h1_title": false,
   "title_cell": "Table of Contents",
   "title_sidebar": "Contents",
   "toc_cell": false,
   "toc_position": {},
   "toc_section_display": true,
   "toc_window_display": false
  },
  "varInspector": {
   "cols": {
    "lenName": 16,
    "lenType": 16,
    "lenVar": 40
   },
   "kernels_config": {
    "python": {
     "delete_cmd_postfix": "",
     "delete_cmd_prefix": "del ",
     "library": "var_list.py",
     "varRefreshCmd": "print(var_dic_list())"
    },
    "r": {
     "delete_cmd_postfix": ") ",
     "delete_cmd_prefix": "rm(",
     "library": "var_list.r",
     "varRefreshCmd": "cat(var_dic_list()) "
    }
   },
   "position": {
    "height": "390px",
    "left": "757px",
    "right": "20px",
    "top": "93px",
    "width": "503px"
   },
   "types_to_exclude": [
    "module",
    "function",
    "builtin_function_or_method",
    "instance",
    "_Feature"
   ],
   "window_display": false
  }
 },
 "nbformat": 4,
 "nbformat_minor": 2
}
